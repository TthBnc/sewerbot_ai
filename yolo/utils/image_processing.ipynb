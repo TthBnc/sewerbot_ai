{
 "cells": [
  {
   "cell_type": "code",
   "execution_count": 1,
   "metadata": {},
   "outputs": [],
   "source": [
    "from utils import slice_video"
   ]
  },
  {
   "cell_type": "code",
   "execution_count": 2,
   "metadata": {},
   "outputs": [
    {
     "name": "stdout",
     "output_type": "stream",
     "text": [
      "Curr vid: 1\n",
      "end of the video: 1\n",
      "Curr vid: 10\n",
      "end of the video: 10\n",
      "Curr vid: 2\n",
      "end of the video: 2\n",
      "Curr vid: 3\n",
      "end of the video: 3\n",
      "Curr vid: 4\n",
      "end of the video: 4\n",
      "Curr vid: 5\n",
      "end of the video: 5\n",
      "Curr vid: 6\n",
      "end of the video: 6\n",
      "Curr vid: 7\n",
      "end of the video: 7\n",
      "Curr vid: 8\n",
      "end of the video: 8\n",
      "Curr vid: 9\n",
      "end of the video: 9\n"
     ]
    }
   ],
   "source": [
    "slice_video(write_path=\"10.27\")"
   ]
  }
 ],
 "metadata": {
  "kernelspec": {
   "display_name": "Python 3",
   "language": "python",
   "name": "python3"
  },
  "language_info": {
   "codemirror_mode": {
    "name": "ipython",
    "version": 3
   },
   "file_extension": ".py",
   "mimetype": "text/x-python",
   "name": "python",
   "nbconvert_exporter": "python",
   "pygments_lexer": "ipython3",
   "version": "3.10.7"
  }
 },
 "nbformat": 4,
 "nbformat_minor": 2
}
