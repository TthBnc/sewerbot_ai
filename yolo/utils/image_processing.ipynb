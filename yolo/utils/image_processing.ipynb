{
 "cells": [
  {
   "cell_type": "code",
   "execution_count": 2,
   "metadata": {},
   "outputs": [],
   "source": [
    "from utils import slice_video"
   ]
  },
  {
   "cell_type": "code",
   "execution_count": 3,
   "metadata": {},
   "outputs": [
    {
     "name": "stdout",
     "output_type": "stream",
     "text": [
      "Curr vid: 1\n",
      "end of the video: 1\n",
      "Curr vid: 10\n",
      "end of the video: 10\n",
      "Curr vid: 2\n",
      "end of the video: 2\n",
      "Curr vid: 3\n",
      "end of the video: 3\n",
      "Curr vid: 4\n",
      "end of the video: 4\n",
      "Curr vid: 5\n",
      "end of the video: 5\n",
      "Curr vid: 6\n",
      "end of the video: 6\n",
      "Curr vid: 7\n",
      "end of the video: 7\n",
      "Curr vid: 8\n",
      "end of the video: 8\n",
      "Curr vid: 9\n",
      "end of the video: 9\n"
     ]
    }
   ],
   "source": [
    "slice_video(write_path=\"10.27\")"
   ]
  },
  {
   "cell_type": "code",
   "execution_count": null,
   "metadata": {},
   "outputs": [],
   "source": [
    "import os\n",
    "import cv2\n",
    "\n",
    "def remove_black_bar(img_path, data_path):\n",
    "    img = cv2.imread(img_path)\n",
    "\n",
    "    # Assuming the black bar is the top 128 pixels, adjust as needed\n",
    "    cropped_img = img[128:]  # Remove the top 128 pixels\n",
    "\n",
    "    cv2.imwrite(data_path, cropped_img)\n",
    "\n",
    "    print(f\"Processed: {img_path}\")\n",
    "\n",
    "# Example usage:\n",
    "path=os.getcwd()\n",
    "img_path = os.path.join(path, \"..\", \"src\", \"1_2.jpg\")\n",
    "\n",
    "data_path = os.path.join(path, \"..\", \"src\")\n",
    "\n",
    "\n",
    "remove_black_bar(img_path, data_path)\n"
   ]
  }
 ],
 "metadata": {
  "kernelspec": {
   "display_name": "Python 3",
   "language": "python",
   "name": "python3"
  },
  "language_info": {
   "codemirror_mode": {
    "name": "ipython",
    "version": 3
   },
   "file_extension": ".py",
   "mimetype": "text/x-python",
   "name": "python",
   "nbconvert_exporter": "python",
   "pygments_lexer": "ipython3",
   "version": "3.10.7"
  }
 },
 "nbformat": 4,
 "nbformat_minor": 2
}
