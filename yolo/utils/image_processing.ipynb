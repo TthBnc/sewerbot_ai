{
 "cells": [
  {
   "cell_type": "code",
   "execution_count": 1,
   "metadata": {},
   "outputs": [],
   "source": [
    "from utils import slice_video"
   ]
  },
  {
   "cell_type": "code",
   "execution_count": 2,
   "metadata": {},
   "outputs": [
    {
     "name": "stdout",
     "output_type": "stream",
     "text": [
      "Curr vid: 1\n",
      "end of the video: 1\n",
      "Curr vid: 10\n",
      "end of the video: 10\n",
      "Curr vid: 2\n",
      "end of the video: 2\n",
      "Curr vid: 3\n",
      "end of the video: 3\n",
      "Curr vid: 4\n",
      "end of the video: 4\n",
      "Curr vid: 5\n",
      "end of the video: 5\n",
      "Curr vid: 6\n",
      "end of the video: 6\n",
      "Curr vid: 7\n",
      "end of the video: 7\n",
      "Curr vid: 8\n",
      "end of the video: 8\n",
      "Curr vid: 9\n",
      "end of the video: 9\n"
     ]
    }
   ],
   "source": [
    "slice_video(write_path=\"10.27\")"
   ]
  },
  {
   "cell_type": "code",
   "execution_count": 2,
   "metadata": {},
   "outputs": [
    {
     "name": "stdout",
     "output_type": "stream",
     "text": [
      "Curr vid: 3\n",
      "end of the video: 3\n",
      "Curr vid: 6\n",
      "end of the video: 6\n",
      "Curr vid: 7\n",
      "end of the video: 7\n"
     ]
    }
   ],
   "source": [
    "slice_video(write_path=\"10.30\")"
   ]
  },
  {
   "cell_type": "code",
   "execution_count": 6,
   "metadata": {},
   "outputs": [
    {
     "data": {
      "text/plain": [
       "True"
      ]
     },
     "execution_count": 6,
     "metadata": {},
     "output_type": "execute_result"
    }
   ],
   "source": [
    "import cv2\n",
    "\n",
    "# Load the image\n",
    "image = cv2.imread('D:\\\\Programming\\\\Work\\\\sewerbot_ai\\\\yolo\\\\src\\\\10.30\\\\pictures\\\\3_255.jpg')  # Replace 'your_image.jpg' with your image file\n",
    "\n",
    "# Convert the image to grayscale\n",
    "gray_image = cv2.cvtColor(image, cv2.COLOR_BGR2GRAY)\n",
    "\n",
    "# Display or save the grayscale image\n",
    "cv2.imshow('Grayscale Image', gray_image)  # Show the image in a window\n",
    "cv2.waitKey(0)  # Wait for a key press\n",
    "cv2.destroyAllWindows()  # Close all windows\n",
    "cv2.imwrite('grayscale_image_1.jpg', gray_image) "
   ]
  },
  {
   "cell_type": "code",
   "execution_count": 7,
   "metadata": {},
   "outputs": [
    {
     "data": {
      "text/plain": [
       "True"
      ]
     },
     "execution_count": 7,
     "metadata": {},
     "output_type": "execute_result"
    }
   ],
   "source": [
    "image = cv2.imread('D:\\\\Programming\\\\Work\\\\sewerbot_ai\\\\yolo\\\\src\\\\10.30\\\\pictures\\\\3_278.jpg')  # Replace 'your_image.jpg' with your image file\n",
    "\n",
    "# Convert the image to grayscale\n",
    "gray_image = cv2.cvtColor(image, cv2.COLOR_BGR2GRAY)\n",
    "\n",
    "# Display or save the grayscale image\n",
    "cv2.imshow('Grayscale Image', gray_image)  # Show the image in a window\n",
    "cv2.waitKey(0)  # Wait for a key press\n",
    "cv2.destroyAllWindows()  # Close all windows\n",
    "cv2.imwrite('grayscale_image_2.jpg', gray_image) \n"
   ]
  },
  {
   "cell_type": "code",
   "execution_count": 10,
   "metadata": {},
   "outputs": [
    {
     "data": {
      "text/plain": [
       "True"
      ]
     },
     "execution_count": 10,
     "metadata": {},
     "output_type": "execute_result"
    }
   ],
   "source": [
    "image = cv2.imread('D:\\\\Programming\\\\Work\\\\sewerbot_ai\\\\yolo\\\\src\\\\10.30\\\\pictures\\\\3_278.jpg')  # Replace 'your_image.jpg' with your image file\n",
    "\n",
    "\n",
    "width, height = 640, 480\n",
    "\n",
    "# Get the width and height of the original image\n",
    "original_height, original_width = image.shape[:2]\n",
    "\n",
    "\n",
    "cropped_image = image[:, :original_width - width, :]\n",
    "cropped_image=cv2.resize(cropped_image, (640, 640))\n",
    "# Display the cropped image\n",
    "cv2.imshow('Cropped Image', cropped_image)\n",
    "cv2.waitKey(0)\n",
    "cv2.destroyAllWindows()\n",
    "\n",
    "# Save the cropped image\n",
    "cv2.imwrite('cropped_image2.jpg', cropped_image)\n"
   ]
  },
  {
   "cell_type": "code",
   "execution_count": 17,
   "metadata": {},
   "outputs": [
    {
     "data": {
      "text/plain": [
       "True"
      ]
     },
     "execution_count": 17,
     "metadata": {},
     "output_type": "execute_result"
    }
   ],
   "source": [
    "folder_path = 'D:\\\\Programming\\\\Work\\\\sewerbot_ai\\\\yolo\\\\src\\\\10.30\\\\asd\\\\2023-10-30T12-56-08.499696_drum_loading.jpg'  # Replace 'path_to_your_folder' with the actual folder path\n",
    "img = cv2.imread(folder_path)\n",
    "cropped_img = img[120:]\n",
    "cv2.imshow('Cropped Image', cropped_img)\n",
    "cv2.waitKey(0)\n",
    "cv2.destroyAllWindows()\n",
    "cv2.imwrite('cropped_image3.jpg', cropped_img)\n"
   ]
  },
  {
   "cell_type": "code",
   "execution_count": 18,
   "metadata": {},
   "outputs": [],
   "source": [
    "import cv2\n",
    "import os\n",
    "\n",
    "# Path to the folder containing images\n",
    "folder_path = 'D:\\\\Programming\\\\Work\\\\sewerbot_ai\\\\yolo\\\\src\\\\10.30\\\\asd'  # Replace 'path_to_your_folder' with the actual folder path\n",
    "\n",
    "# Define the dimensions for cropping\n",
    "width, height = 640, 480\n",
    "\n",
    "# Loop through the files in the folder\n",
    "for filename in os.listdir(folder_path):\n",
    "    if filename.endswith('.jpg') or filename.endswith('.png') or filename.endswith('.jpeg'):\n",
    "        file_path = os.path.join(folder_path, filename)\n",
    "\n",
    "        # Load the image\n",
    "        image = cv2.imread(file_path)\n",
    "\n",
    "        # Check if the image exists and its width is greater than the desired crop width\n",
    "        if image is not None:\n",
    "            original_height, original_width = image.shape[:2]\n",
    "            image = image[120:]\n",
    "            cropped_image = image[:, :original_width - width, :]\n",
    "            cropped_image=cv2.resize(cropped_image, (640, 640))\n",
    "\n",
    "            # Overwrite the original image with the cropped version\n",
    "            cv2.imwrite(file_path, cropped_image)"
   ]
  }
 ],
 "metadata": {
  "kernelspec": {
   "display_name": "Python 3",
   "language": "python",
   "name": "python3"
  },
  "language_info": {
   "codemirror_mode": {
    "name": "ipython",
    "version": 3
   },
   "file_extension": ".py",
   "mimetype": "text/x-python",
   "name": "python",
   "nbconvert_exporter": "python",
   "pygments_lexer": "ipython3",
   "version": "3.10.7"
  }
 },
 "nbformat": 4,
 "nbformat_minor": 2
}
